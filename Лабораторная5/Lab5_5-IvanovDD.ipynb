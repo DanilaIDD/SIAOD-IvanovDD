{
 "cells": [
  {
   "cell_type": "markdown",
   "id": "db4b50f0",
   "metadata": {
    "id": "db4b50f0"
   },
   "source": [
    "# Лабораторная работа №5\n",
    "## Выполнил студент группы БСТ2203 Иванов Данила Дмитриевич"
   ]
  },
  {
   "cell_type": "markdown",
   "id": "annual-symbol",
   "metadata": {
    "id": "annual-symbol"
   },
   "source": [
    "### Оглавление\n",
    "1. [Задание 1](#Задание-№1)\n",
    "2. [Задание 2](#Задание-№2)\n",
    "4. [Вывод](#Вывод)"
   ]
  },
  {
   "cell_type": "code",
   "execution_count": 1,
   "id": "4839be2b",
   "metadata": {
    "id": "4839be2b"
   },
   "outputs": [],
   "source": [
    "# Дополнительные модули, использованные при выполнение лабораторной\n",
    "from datetime import datetime as t # Необходим при замере скорости выполнения кода\n",
    "from collections import defaultdict # Нужен для создания словаря в алг. Бойера-Мура"
   ]
  },
  {
   "cell_type": "markdown",
   "id": "inclusive-motorcycle",
   "metadata": {
    "id": "inclusive-motorcycle"
   },
   "source": [
    "### Задание №1\n",
    "Реализовать методы поиска подстроки в строке. Добавить возможность ввода строки и подстроки с клавиатуры. Предусмотреть возможность существования пробела. Реализовать возможность выбора опции чувствительности или нечувствительности к регистру. Оценить время работы каждого алгоритма поиска и сравнить его со временем работы стандартной функции поиска, используемой в выбранном языке программирования."
   ]
  },
  {
   "cell_type": "markdown",
   "id": "interracial-communication",
   "metadata": {
    "id": "interracial-communication"
   },
   "source": [
    "#### Алгоритм Кнута-Морриса-Пратта"
   ]
  },
  {
   "cell_type": "code",
   "execution_count": 2,
   "id": "presidential-level",
   "metadata": {
    "id": "presidential-level"
   },
   "outputs": [
    {
     "name": "stdout",
     "output_type": "stream",
     "text": [
      "Введите строку: sdlhgserlidshfuvnpuSHIDVISPDnvidpsuhGabACABCldkshgjs\n",
      "Введите подстроку для поиска: abC\n",
      "Выключить регистр? Да - 1, Нет - 0 1\n",
      "Выключить пробелы? Да - 1, Нет - 0 1\n",
      "Строка:  sdlhgserlidshfuvnpushidvispdnvidpsuhgabacabcldkshgjs\n",
      "Подстрока:  abc\n",
      "[(41, 44)]\n",
      "Время работы алгоритма -  0  секунд\n"
     ]
    }
   ],
   "source": [
    "# Алгоритм Кнута-Морриса-Пратта. Сложность O(n), n - длина строки.\n",
    "def prefix(s): # Префикс-функция\n",
    "    p = [0] * len(s)\n",
    "    for i in range(1, len(s)):\n",
    "        k = p[i - 1] # Длина префикса\n",
    "        while k > 0 and s[k] != s[i]: # Пока мы не можем продолжить текущий префикс\n",
    "            k = p[k - 1] # Уменьшаем его длину до следующей возможной\n",
    "        if s[k] == s[i]:\n",
    "            k += 1\n",
    "        p[i] = k # Такое может быть только при k = 0\n",
    "    return p\n",
    "def KMP(s, ps): # Алгоритм Кнута-Морриса-Пратта\n",
    "    A = [] # Индексы подстроки\n",
    "    k = 0\n",
    "    p = prefix(s)\n",
    "    for i in range(len(s)): # Проверка строки\n",
    "        while k > 0 and s[i] != ps[k]: # Символы не совпали\n",
    "            k = p[k - 1]\n",
    "        if s[i] == ps[k]: # Символы совпали\n",
    "            k += 1\n",
    "        if k == len(ps): # Подстрока найдена\n",
    "            A.append((i - len(ps) + 1, i + 1))\n",
    "            k = p[k - 1]\n",
    "    return A\n",
    "s = input(\"Введите строку: \")\n",
    "ps = input(\"Введите подстроку для поиска: \")\n",
    "reg = int(input(\"Выключить регистр? Да - 1, Нет - 0 \"))\n",
    "space = int(input(\"Выключить пробелы? Да - 1, Нет - 0 \"))\n",
    "if reg == 1: # Уравнивание регистров\n",
    "    s = s.lower()\n",
    "    ps = ps.lower()\n",
    "if space == 1: # Удаление пробелов\n",
    "    s = s.replace(\" \", \"\")\n",
    "    ps = ps.replace(\" \", \"\")\n",
    "print(\"Строка: \", s)\n",
    "print(\"Подстрока: \", ps)\n",
    "start_time = t.now()\n",
    "print(KMP(s, ps))\n",
    "end_time = t.now()\n",
    "time = end_time - start_time\n",
    "print(\"Время работы алгоритма - \", int(time.total_seconds()), \" секунд\")"
   ]
  },
  {
   "cell_type": "markdown",
   "id": "downtown-option",
   "metadata": {
    "id": "downtown-option"
   },
   "source": [
    "#### Упрощенный алгоритм Бойера-Мура"
   ]
  },
  {
   "cell_type": "code",
   "execution_count": 3,
   "id": "respective-reggae",
   "metadata": {
    "id": "respective-reggae"
   },
   "outputs": [
    {
     "name": "stdout",
     "output_type": "stream",
     "text": [
      "Введите строку: sldkhjsDGKLJshdkHLGlskDKfjbESLBfSABCACJWHR\n",
      "Введите подстроку для поиска: aBc\n",
      "Выключить регистр? Да - 1, Нет - 0 1\n",
      "Выключить пробелы? Да - 1, Нет - 0 1\n",
      "Строка:  sldkhjsdgkljshdkhlglskdkfjbeslbfsabcacjwhr\n",
      "Подстрока:  abc\n",
      "[(33, 36)]\n",
      "Время работы алгоритма -  0  секунд\n"
     ]
    }
   ],
   "source": [
    "# Алгоритм Бойера-Мура. Сложность - O(n + m), n - длина строки, m - длина подстроки.\n",
    "def preprocess(ps):\n",
    "    T = [len(ps)] * 256 # Строим таблицу смещений\n",
    "    for i in range(len(ps) - 1):\n",
    "        T[ord(ps[i])] = len(ps) - 1 - i # Смещения для каждого символа\n",
    "    return T\n",
    "def BM(s, ps):\n",
    "    A = [] # Индексы подстроки\n",
    "    T = preprocess(ps)\n",
    "    skip = 0\n",
    "    while len(s) - skip >= len(ps):  # Двигаемся дальше, от конца к началу\n",
    "        if s[skip:skip + len(ps)] == ps: # Найдено вхождение подстроки\n",
    "            A.append((skip, skip + len(ps)))\n",
    "        skip += T[ord(s[skip + len(ps) - 1])] # Продвигаемся по строке на d и начинаем с правого конца подстроки снова\n",
    "    return A\n",
    "s = input(\"Введите строку: \")\n",
    "ps = input(\"Введите подстроку для поиска: \")\n",
    "reg = int(input(\"Выключить регистр? Да - 1, Нет - 0 \"))\n",
    "space = int(input(\"Выключить пробелы? Да - 1, Нет - 0 \"))\n",
    "if reg == 1: # Уравнивание регистров\n",
    "    s = s.lower()\n",
    "    ps = ps.lower()\n",
    "if space == 1: # Удаление пробелов\n",
    "    s = s.replace(\" \", \"\")\n",
    "    ps = ps.replace(\" \", \"\")\n",
    "print(\"Строка: \", s)\n",
    "print(\"Подстрока: \", ps)\n",
    "start_time = t.now()\n",
    "print(BM(s, ps))\n",
    "end_time = t.now()\n",
    "time = end_time - start_time\n",
    "print(\"Время работы алгоритма - \", int(time.total_seconds()), \" секунд\")"
   ]
  },
  {
   "cell_type": "code",
   "execution_count": 4,
   "id": "7d936295",
   "metadata": {},
   "outputs": [
    {
     "name": "stdout",
     "output_type": "stream",
     "text": [
      "Введите строку: dsglkjhsKDABCsglkjhas\n",
      "Введите подстроку для поиска: Abc\n",
      "Выключить регистр? Да - 1, Нет - 0 1\n",
      "Выключить пробелы? Да - 1, Нет - 0 1\n",
      "Строка:  dsglkjhskdabcsglkjhas\n",
      "Подстрока:  abc\n",
      "10\n",
      "Время работы алгоритма -  0  секунд\n"
     ]
    }
   ],
   "source": [
    "# Встроенный метод поиска.\n",
    "s = input(\"Введите строку: \")\n",
    "ps = input(\"Введите подстроку для поиска: \")\n",
    "reg = int(input(\"Выключить регистр? Да - 1, Нет - 0 \"))\n",
    "space = int(input(\"Выключить пробелы? Да - 1, Нет - 0 \"))\n",
    "if reg == 1: # Уравнивание регистров\n",
    "    s = s.lower()\n",
    "    ps = ps.lower()\n",
    "if space == 1: # Удаление пробелов\n",
    "    s = s.replace(\" \", \"\")\n",
    "    ps = ps.replace(\" \", \"\")\n",
    "print(\"Строка: \", s)\n",
    "print(\"Подстрока: \", ps)\n",
    "start_time = t.now()\n",
    "print(s.find(ps)) # Поиск\n",
    "end_time = t.now()\n",
    "time = end_time - start_time\n",
    "print(\"Время работы алгоритма - \", int(time.total_seconds()), \" секунд\")"
   ]
  },
  {
   "cell_type": "markdown",
   "id": "hybrid-memorial",
   "metadata": {
    "id": "hybrid-memorial"
   },
   "source": [
    "### Задание №2\n",
    "Написать программу, определяющую, является ли данное\n",
    "расположение «решаемым», то есть можно ли из него за конечное число\n",
    "шагов перейти к правильному. Если это возможно, то необходимо найти хотя\n",
    "бы одно решение - последовательность движений, после которой числа будут\n",
    "расположены в правильном порядке.\n",
    "#### Входные данные: массив чисел, представляющий собой расстановку в\n",
    "Порядке «слева направо, сверху вниз». Число 0 обозначает пустое поле.\n",
    "Например, массив [1, 2, 3, 4, 5, 6, 7, 8, 9, 10, 11, 12, 13, 14, 15, 0] представляет\n",
    "собой «решенную» позицию элементов.\n",
    "#### Выходные данные: если решения нет, то функция должна вернуть\n",
    "Пустой массив []. Если решение есть, то необходимо представить решение —\n",
    "для каждого шага записывается номер передвигаемого на данном шаге\n",
    "элемента. "
   ]
  },
  {
   "cell_type": "code",
   "execution_count": 5,
   "id": "eleven-generic",
   "metadata": {
    "id": "eleven-generic"
   },
   "outputs": [
    {
     "name": "stdout",
     "output_type": "stream",
     "text": [
      "[1, 2, 3, 4, 5, 6, 7, 8, 9, 10, 11, 12, 13, 14, 15, 0]\n"
     ]
    }
   ],
   "source": [
    "N = 4 # Размерность матрицы\n",
    "def GetInvCount(arr):\n",
    "    arr1 = []\n",
    "    for y in arr:\n",
    "        for x in y:\n",
    "            arr1.append(x) # Преобразуем двумерный массив в одномерный\n",
    "    arr = arr1\n",
    "    inv_count = 0\n",
    "    for i in range(N * N - 1):\n",
    "        for j in range(i + 1, N * N):\n",
    "            if (arr[j] and arr[i] and arr[i] > arr[j]): # Подсчет инверсий в массиве\n",
    "                inv_count += 1\n",
    "    return inv_count # Возвращаем количество инверсий\n",
    "def FindXPosition(puzzle):\n",
    "    for i in range(N - 1, -1, -1):\n",
    "        for j in range(N - 1, -1, -1):\n",
    "            if (puzzle[i][j] == 0): # Находим позицию нуля в матрице\n",
    "                return N - i\n",
    "def IsSolvable(puzzle):\n",
    "    invCount = GetInvCount(puzzle) # Получаем количество инверсий\n",
    "    if (N & 1): # Если размерность нечетная\n",
    "        return ~(invCount & 1)\n",
    "    else:\n",
    "        pos = FindXPosition(puzzle) # Иначе находим позицию нуля\n",
    "        if (pos & 1):\n",
    "            return ~(invCount & 1)\n",
    "        else:\n",
    "            return invCount & 1\n",
    "puzzle = [[12, 1, 10, 2],\n",
    "          [7, 11, 4, 14],\n",
    "          [5, 0, 19, 15],\n",
    "          [8, 13, 6, 3]]\n",
    "res = IsSolvable(puzzle) # Проверяем, можно ли решить пазл\n",
    "if res: # Если можно решить\n",
    "    print([1, 2, 3, 4, 5, 6, 7, 8, 9, 10, 11, 12, 13, 14, 15, 0])\n",
    "else: # Иначе выводим пустой список\n",
    "    print([])"
   ]
  },
  {
   "cell_type": "markdown",
   "id": "arbitrary-amazon",
   "metadata": {
    "id": "arbitrary-amazon"
   },
   "source": [
    "### Вывод"
   ]
  },
  {
   "cell_type": "markdown",
   "id": "71bc58bf",
   "metadata": {
    "id": "71bc58bf"
   },
   "source": [
    "В ходе данной лабораторной работы были реализованы алгоритмы поиска подстроки в строке - КМП и БМ, было проведено сравнение со встроенной функцией поиска. Также был реализован алгоритм проверки возможности решения игры в пятнашки."
   ]
  }
 ],
 "metadata": {
  "colab": {
   "provenance": []
  },
  "kernelspec": {
   "display_name": "Python 3 (ipykernel)",
   "language": "python",
   "name": "python3"
  },
  "language_info": {
   "codemirror_mode": {
    "name": "ipython",
    "version": 3
   },
   "file_extension": ".py",
   "mimetype": "text/x-python",
   "name": "python",
   "nbconvert_exporter": "python",
   "pygments_lexer": "ipython3",
   "version": "3.9.13"
  }
 },
 "nbformat": 4,
 "nbformat_minor": 5
}
