{
 "cells": [
  {
   "cell_type": "markdown",
   "metadata": {
    "id": "0z3KlfKDn4_K"
   },
   "source": [
    "# Лабораторная работа 4. \n",
    "# Методы поиска.\n"
   ]
  },
  {
   "cell_type": "markdown",
   "metadata": {
    "id": "96Gi_LEvmSVH"
   },
   "source": [
    "## Выполнил студент группы БСТ2203 Иванов Данила Дмитриевич\n",
    "***"
   ]
  },
  {
   "cell_type": "markdown",
   "metadata": {
    "id": "GjdIp8aToKIe"
   },
   "source": [
    "### Задание\n",
    "Реализовать методы поиска в соответствии с заданием. Организовать \n",
    "генерацию начального набора случайных данных. Для всех вариантов \n",
    "добавить реализацию добавления, поиска и удаления элементов. Оценить \n",
    "время работы каждого алгоритма поиска и сравнить его со временем \n",
    "работы стандартной функции поиска, используемой в выбранном языке \n",
    "программирования.\n",
    "1.  Бинарный поиск | Бинарное дерево | Фибоначчиев | Интерполяционный. \n",
    "\n",
    "2.  Простое рехэширование | Рехэширование с помощью  псевдослучайных чисел | Метод цепочек. \n",
    "\n",
    "3.  Расставить на стандартной 64-клеточной шахматной доске 8 ферзей так, чтобы ни один из них не находился под боем другого. Подразумевается, что ферзь бьёт все клетки, расположенные по вертикалям, горизонталям и обеим диагоналям. Написать программу,  которая находит хотя бы один способ решения задач."
   ]
  },
  {
   "cell_type": "markdown",
   "metadata": {
    "id": "Wggfn8l7nG72"
   },
   "source": [
    "### Выполнение:"
   ]
  },
  {
   "cell_type": "code",
   "execution_count": 1,
   "metadata": {},
   "outputs": [
    {
     "name": "stdout",
     "output_type": "stream",
     "text": [
      "Введите число элементов: 10\n",
      "Введите минимальное значение: -50\n",
      "Введите максимальное значение: 50\n"
     ]
    },
    {
     "data": {
      "text/plain": [
       "[-46, -20, 0, 6, 13, 24, 39, 42, 47, 49]"
      ]
     },
     "execution_count": 1,
     "metadata": {},
     "output_type": "execute_result"
    }
   ],
   "source": [
    "import random\n",
    "import time\n",
    "n = int(input(\"Введите число элементов: \"))\n",
    "minV = int(input(\"Введите минимальное значение: \"))\n",
    "maxV = int(input(\"Введите максимальное значение: \"))\n",
    "def GenerateArray(n, min, max): # Генерация массива\n",
    "    array = []\n",
    "    for i in range(n):\n",
    "        array.append(random.randint(min, max))\n",
    "    return array\n",
    "def Append(array, value): # Добавление числа в массив\n",
    "    array.append(value)\n",
    "    array.sort()\n",
    "def Remove(array, value): # Удаление числа из массива\n",
    "    if value in array:\n",
    "        array.remove(value)\n",
    "    else:\n",
    "        print(\"Введенного числа в массиве нет\")\n",
    "array1 = GenerateArray(n, minV, maxV)\n",
    "array1.sort()\n",
    "array1"
   ]
  },
  {
   "cell_type": "code",
   "execution_count": 2,
   "metadata": {},
   "outputs": [
    {
     "data": {
      "text/plain": [
       "[-46, -20, 0, 6, 13, 24, 39, 42, 47, 49, 64]"
      ]
     },
     "execution_count": 2,
     "metadata": {},
     "output_type": "execute_result"
    }
   ],
   "source": [
    "Append(array1, 64) # Добавление числа\n",
    "array1"
   ]
  },
  {
   "cell_type": "code",
   "execution_count": 3,
   "metadata": {},
   "outputs": [
    {
     "data": {
      "text/plain": [
       "[-46, -20, 6, 13, 24, 39, 42, 47, 49, 64]"
      ]
     },
     "execution_count": 3,
     "metadata": {},
     "output_type": "execute_result"
    }
   ],
   "source": [
    "Remove(array1, array1[2]) # Удаление числа, которое заведомо есть в массиве\n",
    "array1"
   ]
  },
  {
   "cell_type": "code",
   "execution_count": 4,
   "metadata": {},
   "outputs": [
    {
     "name": "stdout",
     "output_type": "stream",
     "text": [
      "Введенного числа в массиве нет\n"
     ]
    }
   ],
   "source": [
    "Remove(array1, -142) # Удаление числа, которого заведомо нет в массиве"
   ]
  },
  {
   "cell_type": "code",
   "execution_count": 5,
   "metadata": {},
   "outputs": [
    {
     "name": "stdout",
     "output_type": "stream",
     "text": [
      "Индекс искомого элемента:  9\n",
      "Время = 0.9634494781494141 мс\n"
     ]
    }
   ],
   "source": [
    "# Бинарный поиск. Сложность алгоритма O(log(n))\n",
    "def BinarySeach(array, x):\n",
    "    first = 0 # Индекс первого элемента\n",
    "    last = len(array) - 1 # Индекс последнего элемента\n",
    "    find = False # Флаг нахождения числа\n",
    "    while first <= last and not find:\n",
    "        mid = (first + last) // 2 # Индекс срединного элемента\n",
    "        if array[mid] == x: # Если найден\n",
    "            print(\"Индекс искомого элемента: \", mid)\n",
    "            find = True\n",
    "        elif array[mid] < x: # x в правой половине\n",
    "            first = mid + 1\n",
    "        else: # x в левой половине\n",
    "            last = mid - 1\n",
    "    if not find: # Если не найден\n",
    "        print(\"В массиве нет искомого числа\")\n",
    "start_time = time.time()\n",
    "BinarySeach(array1, 64)\n",
    "print(\"Время = {0} мс\".format((time.time() - start_time)*1000))"
   ]
  },
  {
   "cell_type": "code",
   "execution_count": 6,
   "metadata": {},
   "outputs": [
    {
     "name": "stdout",
     "output_type": "stream",
     "text": [
      "Бинарное дерево: <__main__.BinarySearchTree object at 0x000001B7E06A1100>\n",
      "Элемент 64 есть в дереве\n",
      "Бинарное дерево после удаления элемента 6 : <__main__.BinarySearchTree object at 0x000001B7E06A1100>\n",
      "Минимальный элемент в дереве: -46\n",
      "Максимальный элемент в дереве: 64\n"
     ]
    }
   ],
   "source": [
    "# Бинарное дерево. Сложность алгоритма O(n)\n",
    "class Node: # Класс для создания узла бинарного дерева\n",
    "    def __init__(self, key):\n",
    "        self.left = None\n",
    "        self.right = None\n",
    "        self.val = key\n",
    "class BinarySearchTree: # Класс для создания бинарного дерева\n",
    "    def __init__(self):\n",
    "        self.root = None\n",
    "    def insert(self, key): # Метод для добавления узла в дерево\n",
    "        if self.root is None:\n",
    "            self.root = Node(key)\n",
    "        else:\n",
    "            self._insert(key, self.root)\n",
    "    def _insert(self, key, node): # Вспомогательный метод для рекурсивного добавления узла в дерево\n",
    "        if key < node.val:\n",
    "            if node.left is None:\n",
    "                node.left = Node(key)\n",
    "            else:\n",
    "                self._insert(key, node.left)\n",
    "        elif key > node.val:\n",
    "            if node.right is None:\n",
    "                node.right = Node(key)\n",
    "            else:\n",
    "                self._insert(key, node.right)\n",
    "    def search(self, key): # Метод для поиска узла в дереве\n",
    "        return self._search(key, self.root)\n",
    "    def _search(self, key, node): # Вспомогательный метод для рекурсивного поиска узла в дереве\n",
    "        if node is None or node.val == key:\n",
    "            return node\n",
    "        elif key < node.val:\n",
    "            return self._search(key, node.left)\n",
    "        else:\n",
    "            return self._search(key, node.right)\n",
    "    def delete(self, key): # Метод для удаления узла из дерева\n",
    "        self.root = self._delete(key, self.root)\n",
    "    def _delete(self, key, node): # Вспомогательный метод для рекурсивного удаления узла из дерева\n",
    "        if node is None:\n",
    "            return node\n",
    "        elif key < node.val:\n",
    "            node.left = self._delete(key, node.left)\n",
    "        elif key > node.val:\n",
    "            node.right = self._delete(key, node.right)\n",
    "        else:\n",
    "            if node.left is None:\n",
    "                return node.right\n",
    "            elif node.right is None:\n",
    "                return node.left\n",
    "            else:\n",
    "                min_node = self._find_min(node.right)\n",
    "                node.val = min_node.val\n",
    "                node.right = self._delete(min_node.val, node.right)\n",
    "        return node\n",
    "    def find_min(self): # Метод для поиска минимального узла в дереве\n",
    "        return self._find_min(self.root)\n",
    "    def _find_min(self, node): # Вспомогательный метод для рекурсивного поиска минимального узла в дереве\n",
    "        if node.left is None:\n",
    "            return node\n",
    "        else:\n",
    "            return self._find_min(node.left)\n",
    "    def find_max(self): # Метод для поиска максимального узла в дереве\n",
    "        return self._find_max(self.root)\n",
    "    def _find_max(self, node): # Вспомогательный метод для рекурсивного поиска максимального узла в дереве\n",
    "        if node.right is None:\n",
    "            return node\n",
    "        else:\n",
    "            return self._find_max(node.right)\n",
    "Tree = BinarySearchTree()\n",
    "for num in array1:\n",
    "    Tree.insert(num)\n",
    "print(\"Бинарное дерево:\", Tree)\n",
    "x = 64\n",
    "result = Tree.search(x) # Поиск элемента в дереве\n",
    "if result is not None:\n",
    "    print(\"Элемент\", x, \"есть в дереве\")\n",
    "else:\n",
    "    print(\"Элемент\", x, \"не найден\")\n",
    "delete = random.choice(array1)\n",
    "Tree.delete(delete) # Удаление элемента из дерева\n",
    "print('Бинарное дерево после удаления элемента', delete, ':', Tree)\n",
    "minN = Tree.find_min() # Поиск минимального элемента в дереве\n",
    "print('Минимальный элемент в дереве:', minN.val)\n",
    "maxN = Tree.find_max() # Поиск максимального элемента в дереве\n",
    "print('Максимальный элемент в дереве:', maxN.val)"
   ]
  },
  {
   "cell_type": "code",
   "execution_count": 7,
   "metadata": {},
   "outputs": [
    {
     "name": "stdout",
     "output_type": "stream",
     "text": [
      "Индекс искомого элемента:  9\n",
      "Время = 0.9992122650146484 мс\n"
     ]
    }
   ],
   "source": [
    "# Фибоначчиев поиск. Сложность алгоритма O(log(n))\n",
    "def FibonacciSearch(array, x):\n",
    "    fib1 = 0 # Числа фибоначчи\n",
    "    fib2 = 1\n",
    "    fib = fib2 + fib1\n",
    "    find = False\n",
    "    while (fib < len(array)): # Поиск ближайшего к длине массива числа Фибоначчи\n",
    "        fib1 = fib2\n",
    "        fib2 = fib\n",
    "        fib = fib2 + fib1\n",
    "    offset = -1 # Смещение\n",
    "    while (fib > 1): # Поиск до тех пор, пока число Фибоначчи не станет равным 1\n",
    "        i = min(offset + fib1, (len(array) - 1))\n",
    "        if (array[i] < x): # Сдвиг вправо\n",
    "            fib = fib2\n",
    "            fib2 = fib1\n",
    "            fib1 = fib - fib2\n",
    "            offset = i\n",
    "        elif (array[i] > x): # Сдвиг влево\n",
    "            fib = fib1\n",
    "            fib2 -= fib1\n",
    "            fib1 = fib - fib2\n",
    "        else: # Элемент найден\n",
    "            print(\"Индекс искомого элемента: \", i)\n",
    "            find = True\n",
    "            break\n",
    "    if(fib2 and array[offset + 1] == x): # Проверка последнего элемента, который может не попасть в предыдущие условия\n",
    "        print(\"Индекс искомого элемента: \", offset + 1)\n",
    "    if not find: # Элемент не найден\n",
    "        print(\"В массиве нет искомого числа\")\n",
    "start_time = time.time()\n",
    "FibonacciSearch(array1, 64)\n",
    "print(\"Время = {0} мс\".format((time.time() - start_time)*1000))"
   ]
  },
  {
   "cell_type": "code",
   "execution_count": 8,
   "metadata": {},
   "outputs": [
    {
     "name": "stdout",
     "output_type": "stream",
     "text": [
      "Индекс искомого элемента:  9\n",
      "Время = 0.0 мс\n"
     ]
    }
   ],
   "source": [
    "# Интерполяционный поиск. Сложность алгоритма O(log(log(n)))\n",
    "def InterpolationSearch(array, x):\n",
    "    first = 0 # Индекс первого элемента\n",
    "    last = len(array) - 1 # Индекс конечного элемента\n",
    "    find = False\n",
    "    # Пока искомый элемент находится между начальным и конечным элементами\n",
    "    while first <= last and x >= array[first] and x <= array[last]:\n",
    "        # Формула интерполяции для предсказания позиции\n",
    "        pos = first + int(((float(last - first) / (array[last] - array[first])) * (x - array[first])))\n",
    "        if array[pos] == x: # Если элемент найден\n",
    "            print(\"Индекс искомого элемента: \", pos)\n",
    "            find = True\n",
    "            break # Прерываем поиск\n",
    "        elif array[pos] < x: # Если искомый x больше, то ищем в правой половине\n",
    "            first = pos + 1\n",
    "        else: # Если искомый x меньше, то в левой половине\n",
    "            last = pos - 1\n",
    "    if not find: # Если искомый элемент не найден\n",
    "        print(\"В массиве нет искомого числа\")\n",
    "start_time = time.time()\n",
    "InterpolationSearch(array1, 64)\n",
    "print(\"Время = {0} мс\".format((time.time() - start_time)*1000))"
   ]
  },
  {
   "cell_type": "code",
   "execution_count": 9,
   "metadata": {},
   "outputs": [
    {
     "name": "stdout",
     "output_type": "stream",
     "text": [
      "9\n",
      "Время = 0.0 мс\n"
     ]
    }
   ],
   "source": [
    "start_time = time.time() # Использование встроенного метода\n",
    "print(array1.index(64))\n",
    "print(\"Время = {0} мс\".format((time.time() - start_time)*1000))"
   ]
  },
  {
   "cell_type": "code",
   "execution_count": 10,
   "metadata": {},
   "outputs": [
    {
     "data": {
      "text/plain": [
       "['B', 'A', 'C', 'F', 'E', 'D']"
      ]
     },
     "execution_count": 10,
     "metadata": {},
     "output_type": "execute_result"
    }
   ],
   "source": [
    "# Простое рехэширование\n",
    "hash_table = [None] * 6 # Создаем хэш-таблицу размером 6 и заполняем ее значениями None\n",
    "def hash_function(key): # Функция хэширования\n",
    "    return key % 6\n",
    "def insert(key, value): # Функция для вставки элементов в хэш-таблицу\n",
    "    index = hash_function(key) # Вычисляем индекс элемента в хэш-таблице\n",
    "    while hash_table[index] is not None: # Если элемент с таким индексом занят\n",
    "        index = (index + 1) % 6\n",
    "    hash_table[index] = value # Вставляем значение в найденную свободную ячейку хэш-таблицы\n",
    "insert(1, \"A\")\n",
    "insert(6, \"B\")\n",
    "insert(7, \"C\") # Коллизия с ключом 1\n",
    "insert(11, \"D\")\n",
    "insert(16, \"E\")\n",
    "insert(20, \"F\")\n",
    "hash_table"
   ]
  },
  {
   "cell_type": "code",
   "execution_count": 11,
   "metadata": {},
   "outputs": [
    {
     "name": "stdout",
     "output_type": "stream",
     "text": [
      "Исходный список чисел:  [-46, -20, 6, 13, 24, 39, 42, 47, 49, 64]\n",
      "Перехешированный список чисел: [89, 26, 69, 22, 9, 93, 72, 34, 89, 51]\n"
     ]
    }
   ],
   "source": [
    "# Рехэширование с помощью псевдослучайных чисел.\n",
    "rehashed = [] # Рехешированныу числа\n",
    "for number in array1: # Перебираем числа из исходного списка\n",
    "    random_number = random.randint(-100, 100) # Генерация псевдослучайного числа\n",
    "    hashed_number = (number * random_number) % 101 # Рехэширование\n",
    "    rehashed.append(hashed_number)\n",
    "print(\"Исходный список чисел: \", array1) # Вывод\n",
    "print(\"Перехешированный список чисел:\", rehashed)"
   ]
  },
  {
   "cell_type": "code",
   "execution_count": 12,
   "metadata": {},
   "outputs": [
    {
     "data": {
      "text/plain": [
       "'Значение 3'"
      ]
     },
     "execution_count": 12,
     "metadata": {},
     "output_type": "execute_result"
    }
   ],
   "source": [
    "# Метод цепочек.\n",
    "class Node: # Класс узла списка\n",
    "    def __init__(self, key, value):\n",
    "        self.key = key\n",
    "        self.value = value\n",
    "        self.next = None\n",
    "class HashTable: # Класс хэш-таблицы\n",
    "    def __init__(self):\n",
    "        self.capacity = 10 # Начальная емкость таблицы\n",
    "        self.size = 0 # Количество элементов в таблице\n",
    "        self.buckets = [None] * self.capacity # Пустые списки для каждой ячейки таблицы\n",
    "    def add(self, key, value): # Добавление элемента в таблицу\n",
    "        index = hash(key) % self.capacity # Вычисляем хэш-код ключа и индекс ячейки таблицы\n",
    "        node = self.buckets[index] # Получаем список (цепочку) элементов по индексу\n",
    "        while node: # Проходим по всем элементам цепочки\n",
    "            if node.key == key: # Если ключ уже есть в таблице, обновляем значение\n",
    "                node.value = value\n",
    "                return\n",
    "            node = node.next\n",
    "        new_node = Node(key, value) # Если ключа нет в таблице, добавляем его в начало цепочки\n",
    "        new_node.next = self.buckets[index]\n",
    "        self.buckets[index] = new_node\n",
    "        self.size += 1\n",
    "        # Если количество элементов превысило 70% от емкости таблицы, увеличиваем емкость вдвое\n",
    "        if self.size > 0.7 * self.capacity:\n",
    "            self.resize()\n",
    "    def get(self, key): # Метод получения значения по ключу\n",
    "        index = hash(key) % self.capacity # Вычисляем хэш-код ключа и индекс ячейки таблицы\n",
    "        node = self.buckets[index] # Получаем список (цепочку) элементов по индексу\n",
    "        while node: # Проходим по всем элементам цепочки\n",
    "            if node.key == key: # Если ключ найден, возвращаем его значение\n",
    "                return node.value\n",
    "            node = node.next\n",
    "        # Если ключ не найден, возвращаем None\n",
    "        return None\n",
    "    def remove(self, key): # Метод удаления элемента из таблицы\n",
    "        index = hash(key) % self.capacity # Вычисляем хэш-код ключа и индекс ячейки таблицы\n",
    "        node = self.buckets[index] # Получаем список (цепочку) элементов по индексу\n",
    "        prev = None\n",
    "        while node: # Проходим по всем элементам цепочки\n",
    "            if node.key == key: # Если ключ найден, удаляем элемент\n",
    "                if prev:\n",
    "                    prev.next = node.next\n",
    "                else:\n",
    "                    self.buckets[index] = node.next\n",
    "                self.size -= 1\n",
    "                return\n",
    "            prev = node\n",
    "            node = node.next\n",
    "    def resize(self): # Метод изменения емкости таблицы\n",
    "        new_capacity = self.capacity * 2 # Увеличиваем емкость вдвое\n",
    "        new_buckets = [None] * new_capacity # Создаем новую таблицу с увеличенной емкостью\n",
    "        for i in range(self.capacity): # Рехэширование всех элементов из старой таблицы в новую\n",
    "            node = self.buckets[i]\n",
    "            while node:\n",
    "                index = hash(node.key) % new_capacity\n",
    "                if new_buckets[index]:\n",
    "                    new_node = new_buckets[index]\n",
    "                    while new_node.next:\n",
    "                        new_node = new_node.next\n",
    "                    new_node.next = Node(node.key, node.value)\n",
    "                else:\n",
    "                    new_buckets[index] = Node(node.key, node.value)\n",
    "                node = node.next\n",
    "        self.capacity = new_capacity\n",
    "        self.buckets = new_buckets\n",
    "ht = HashTable()\n",
    "ht.add(\"Ключ 1\", \"Значение 1\")\n",
    "ht.add(\"Ключ 2\", \"Значение 2\")\n",
    "ht.add(\"Ключ 3\", \"Значение 3\")\n",
    "ht.add(\"Ключ 4\", \"Значение 4\")\n",
    "ht.add(\"Ключ 5\", \"Значение 5\")\n",
    "ht.get(\"Ключ 3\")"
   ]
  },
  {
   "cell_type": "code",
   "execution_count": 13,
   "metadata": {},
   "outputs": [
    {
     "data": {
      "text/plain": [
       "[[1, 0, 0, 0, 0, 0, 0, 0],\n",
       " [0, 0, 0, 0, 0, 0, 1, 0],\n",
       " [0, 0, 0, 0, 1, 0, 0, 0],\n",
       " [0, 0, 0, 0, 0, 0, 0, 1],\n",
       " [0, 1, 0, 0, 0, 0, 0, 0],\n",
       " [0, 0, 0, 1, 0, 0, 0, 0],\n",
       " [0, 0, 0, 0, 0, 1, 0, 0],\n",
       " [0, 0, 1, 0, 0, 0, 0, 0]]"
      ]
     },
     "execution_count": 13,
     "metadata": {},
     "output_type": "execute_result"
    }
   ],
   "source": [
    "# Решение задачи о 8 ферзях\n",
    "board = [[0 for i in range(8)] for j in range(8)] # Шахматная доска\n",
    "def Safe(board, row, col): # Проверка точки на досягаемость других ферзей\n",
    "    for i in range(col): # Проверка столбцов\n",
    "        if board[row][i] == 1:\n",
    "            return False\n",
    "    for i, j in zip(range(row, -1, -1), range(col, -1, -1)): # Проверка главной диагонали\n",
    "        if board[i][j] == 1:\n",
    "            return False\n",
    "    for i, j in zip(range(row, 8), range(col, -1, -1)): # Проверка побочной диагонали\n",
    "        if board[i][j] == 1:\n",
    "            return False\n",
    "    return True\n",
    "def Solve(board, col): # Решение\n",
    "    if col >= 8: # 8 столбцов\n",
    "        return True\n",
    "    for i in range(8):\n",
    "        if Safe(board, i, col): # Установка в безопасной клетке\n",
    "            board[i][col] = 1\n",
    "            if Solve(board, col + 1):\n",
    "                return board  # Итоговая матрица\n",
    "        board[i][col] = 0 # Если небезопасно\n",
    "result = Solve(board, 0)\n",
    "result"
   ]
  },
  {
   "cell_type": "markdown",
   "metadata": {
    "id": "diOb-K7LnO5a"
   },
   "source": [
    "### Вывод\n",
    "В ходе данной лабораторной работы были реализован алгоритмы поиска, проведено сравнение скорости их выполнения со встроенным методом.\n",
    "Былы реализован алгоритмы рехэширования.\n",
    "Была решена задача о восьми ферзях."
   ]
  }
 ],
 "metadata": {
  "colab": {
   "provenance": [
    {
     "file_id": "1PB29AfCQqtCPpQJrN1jpaKF1cw_5iEo0",
     "timestamp": 1679127006477
    }
   ]
  },
  "kernelspec": {
   "display_name": "Python 3 (ipykernel)",
   "language": "python",
   "name": "python3"
  },
  "language_info": {
   "codemirror_mode": {
    "name": "ipython",
    "version": 3
   },
   "file_extension": ".py",
   "mimetype": "text/x-python",
   "name": "python",
   "nbconvert_exporter": "python",
   "pygments_lexer": "ipython3",
   "version": "3.9.13"
  }
 },
 "nbformat": 4,
 "nbformat_minor": 1
}
