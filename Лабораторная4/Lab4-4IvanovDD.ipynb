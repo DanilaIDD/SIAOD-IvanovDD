{
 "cells": [
  {
   "cell_type": "markdown",
   "metadata": {
    "id": "0z3KlfKDn4_K"
   },
   "source": [
    "# Лабораторная работа 4. \n",
    "# Методы поиска.\n"
   ]
  },
  {
   "cell_type": "markdown",
   "metadata": {
    "id": "96Gi_LEvmSVH"
   },
   "source": [
    "## Выполнил студент группы БСТ2203 Иванов Данила Дмитриевич\n",
    "***"
   ]
  },
  {
   "cell_type": "markdown",
   "metadata": {
    "id": "GjdIp8aToKIe"
   },
   "source": [
    "### Задание\n",
    "Реализовать методы поиска в соответствии с заданием. Организовать \n",
    "генерацию начального набора случайных данных. Для всех вариантов \n",
    "добавить реализацию добавления, поиска и удаления элементов. Оценить \n",
    "время работы каждого алгоритма поиска и сравнить его со временем \n",
    "работы стандартной функции поиска, используемой в выбранном языке \n",
    "программирования.\n",
    "1.  Бинарный поиск | Бинарное дерево | Фибоначчиев | <b>Интерполяционный</b>. \n",
    "\n",
    "2.  Простое рехэширование | <b>Рехэширование с помощью  псевдослучайных чисел</b> | Метод цепочек. \n",
    "\n",
    "3.  Расставить на стандартной 64-клеточной шахматной доске 8 ферзей так, чтобы ни один из них не находился под боем другого. Подразумевается, что ферзь бьёт все клетки, расположенные по вертикалям, горизонталям и обеим диагоналям. Написать программу,  которая находит хотя бы один способ решения задач."
   ]
  },
  {
   "cell_type": "markdown",
   "metadata": {
    "id": "Wggfn8l7nG72"
   },
   "source": [
    "### Выполнение:"
   ]
  },
  {
   "cell_type": "code",
   "execution_count": 1,
   "metadata": {},
   "outputs": [
    {
     "name": "stdout",
     "output_type": "stream",
     "text": [
      "Введите число элементов: 10\n",
      "Введите минимальное значение: -50\n",
      "Введите максимальное значение: 50\n"
     ]
    },
    {
     "data": {
      "text/plain": [
       "[-44, -28, -24, -19, -17, -8, 9, 21, 25, 26]"
      ]
     },
     "execution_count": 1,
     "metadata": {},
     "output_type": "execute_result"
    }
   ],
   "source": [
    "import random\n",
    "import time\n",
    "n = int(input(\"Введите число элементов: \"))\n",
    "minV = int(input(\"Введите минимальное значение: \"))\n",
    "maxV = int(input(\"Введите максимальное значение: \"))\n",
    "def GenerateArray(n, min, max): # Генерация массива\n",
    "    array = []\n",
    "    for i in range(n):\n",
    "        array.append(random.randint(min, max))\n",
    "    return array\n",
    "def Append(array, value): # Добавление числа в массив\n",
    "    array.append(value)\n",
    "    array.sort()\n",
    "def Remove(array, value): # Удаление числа из массива\n",
    "    if value in array:\n",
    "        array.remove(value)\n",
    "    else:\n",
    "        print(\"Введенного числа в массиве нет\")\n",
    "array1 = GenerateArray(n, minV, maxV)\n",
    "array1.sort()\n",
    "array1"
   ]
  },
  {
   "cell_type": "code",
   "execution_count": 2,
   "metadata": {},
   "outputs": [
    {
     "data": {
      "text/plain": [
       "[-44, -28, -24, -19, -17, -8, 9, 21, 25, 26, 64]"
      ]
     },
     "execution_count": 2,
     "metadata": {},
     "output_type": "execute_result"
    }
   ],
   "source": [
    "Append(array1, 64) # Добавление числа\n",
    "array1"
   ]
  },
  {
   "cell_type": "code",
   "execution_count": 3,
   "metadata": {},
   "outputs": [
    {
     "data": {
      "text/plain": [
       "[-44, -28, -19, -17, -8, 9, 21, 25, 26, 64]"
      ]
     },
     "execution_count": 3,
     "metadata": {},
     "output_type": "execute_result"
    }
   ],
   "source": [
    "Remove(array1, array1[2]) # Удаление числа, которое заведомо есть в массиве\n",
    "array1"
   ]
  },
  {
   "cell_type": "code",
   "execution_count": 4,
   "metadata": {},
   "outputs": [
    {
     "name": "stdout",
     "output_type": "stream",
     "text": [
      "Введенного числа в массиве нет\n"
     ]
    }
   ],
   "source": [
    "Remove(array1, -142) # Удаление числа, которого заведомо нет в массиве"
   ]
  },
  {
   "cell_type": "code",
   "execution_count": 5,
   "metadata": {},
   "outputs": [
    {
     "name": "stdout",
     "output_type": "stream",
     "text": [
      "Индекс искомого элемента:  9\n",
      "Время = 1.0161399841308594 мс\n"
     ]
    }
   ],
   "source": [
    "# Вариант 8. Интерполяционный поиск. Сложность алгоритма O(log(log(n)))\n",
    "def InterpolationSearch(array, x):\n",
    "    first = 0 # Индекс первого элемента\n",
    "    last = (len(array) - 1) # Индекс конечного элемента\n",
    "    find = False\n",
    "    # Пока искомый элемент находится между начальным и конечным элементами\n",
    "    while first <= last and x >= array[first] and x <= array[last]:\n",
    "        # Формула интерполяции для предсказания позиции\n",
    "        pos = first + int(((float(last - first) / (array[last] - array[first])) * (x - array[first])))\n",
    "        if array[pos] == x: # Если элемент найден\n",
    "            print(\"Индекс искомого элемента: \", pos)\n",
    "            find = True\n",
    "            break # Прерываем поиск\n",
    "        elif array[pos] < x: # Если искомый x больше, то ищем в правой половине\n",
    "            first = pos + 1\n",
    "        else: # Если искомый x меньше, то в левой половине\n",
    "            last = pos - 1\n",
    "    if not find: # Если искомый элемент не найден\n",
    "        print(\"В массиве нет искомого числа\")\n",
    "start_time = time.time()\n",
    "InterpolationSearch(array1, 64)\n",
    "print(\"Время = {0} мс\".format((time.time() - start_time)*1000))"
   ]
  },
  {
   "cell_type": "code",
   "execution_count": 6,
   "metadata": {},
   "outputs": [
    {
     "name": "stdout",
     "output_type": "stream",
     "text": [
      "9\n",
      "Время = 1.0044574737548828 мс\n"
     ]
    }
   ],
   "source": [
    "start_time = time.time() # Использование встроенного метода\n",
    "print(array1.index(64))\n",
    "print(\"Время = {0} мс\".format((time.time() - start_time)*1000))"
   ]
  },
  {
   "cell_type": "code",
   "execution_count": 7,
   "metadata": {},
   "outputs": [
    {
     "name": "stdout",
     "output_type": "stream",
     "text": [
      "Элемент 3\n"
     ]
    }
   ],
   "source": [
    "class HashTable: # Рехэширование с помощью псевднослучайных чисел. Сложность O(n)\n",
    "    def __init__(self):\n",
    "        self.size = 10  # Размер хэш-таблицы\n",
    "        self.hash_table = [None] * self.size  # Создание пустой хэш-таблицы\n",
    "    def hash_function(self, key): # Простая хэш-функция\n",
    "        return key % self.size\n",
    "    def rehash(self, old_hash): # Рехэширование\n",
    "        return (old_hash + 1) % self.size\n",
    "    def insert(self, key, value): # Вставка\n",
    "        hash_value = self.hash_function(key)\n",
    "        if self.hash_table[hash_value] is None: # Если ключ не занят\n",
    "            self.hash_table[hash_value] = (key, value)\n",
    "        else: # Рехэширование\n",
    "            next_slot = self.rehash(hash_value)\n",
    "            while self.hash_table[next_slot] is not None and self.hash_table[next_slot][0] != key:\n",
    "                next_slot = self.rehash(next_slot) # Рекурсия\n",
    "            self.hash_table[next_slot] = (key, value)\n",
    "    def get(self, key):\n",
    "        start_slot = self.hash_function(key)\n",
    "        data = None # Данные\n",
    "        stop = False # Флаг остановки\n",
    "        found = False # Флаг нахождения\n",
    "        position = start_slot\n",
    "        while self.hash_table[position] is not None and not found and not stop: # Поиск\n",
    "            if self.hash_table[position][0] == key:\n",
    "                found = True\n",
    "                data = self.hash_table[position][1]\n",
    "            else:\n",
    "                position = self.rehash(position)\n",
    "                if position == start_slot: # Остановка если не найдено\n",
    "                    stop = True\n",
    "        return data\n",
    "hash_table = HashTable()\n",
    "hash_table.insert(1, 'Элемент 1')\n",
    "hash_table.insert(2, 'Элемент 2')\n",
    "hash_table.insert(3, 'Элемент 3')\n",
    "hash_table.insert(4, 'Элемент 4')\n",
    "hash_table.insert(5, 'Элемент 5')\n",
    "print(hash_table.get(3))  # Вывод: 'Информация об элементе 10'"
   ]
  },
  {
   "cell_type": "code",
   "execution_count": 8,
   "metadata": {},
   "outputs": [
    {
     "data": {
      "text/plain": [
       "[[1, 0, 0, 0, 0, 0, 0, 0],\n",
       " [0, 0, 0, 0, 0, 0, 1, 0],\n",
       " [0, 0, 0, 0, 1, 0, 0, 0],\n",
       " [0, 0, 0, 0, 0, 0, 0, 1],\n",
       " [0, 1, 0, 0, 0, 0, 0, 0],\n",
       " [0, 0, 0, 1, 0, 0, 0, 0],\n",
       " [0, 0, 0, 0, 0, 1, 0, 0],\n",
       " [0, 0, 1, 0, 0, 0, 0, 0]]"
      ]
     },
     "execution_count": 8,
     "metadata": {},
     "output_type": "execute_result"
    }
   ],
   "source": [
    "# Решение задачи о 8 ферзях\n",
    "board = [[0 for i in range(8)] for j in range(8)] # Шахматная доска\n",
    "def Safe(board, row, col): # Проверка точки на досягаемость других ферзей\n",
    "    for i in range(col): # Проверка столбцов\n",
    "        if board[row][i] == 1:\n",
    "            return False\n",
    "    for i, j in zip(range(row, -1, -1), range(col, -1, -1)): # Проверка главной диагонали\n",
    "        if board[i][j] == 1:\n",
    "            return False\n",
    "    for i, j in zip(range(row, 8), range(col, -1, -1)): # Проверка побочной диагонали\n",
    "        if board[i][j] == 1:\n",
    "            return False\n",
    "    return True\n",
    "def Solve(board, col): # Решение\n",
    "    if col >= 8: # 8 столбцов\n",
    "        return True\n",
    "    for i in range(8):\n",
    "        if Safe(board, i, col): # Установка в безопасной клетке\n",
    "            board[i][col] = 1\n",
    "            if Solve(board, col + 1):\n",
    "                return board  # Итоговая матрица\n",
    "        board[i][col] = 0 # Если небезопасно\n",
    "result = Solve(board, 0)\n",
    "result"
   ]
  },
  {
   "cell_type": "markdown",
   "metadata": {
    "id": "diOb-K7LnO5a"
   },
   "source": [
    "### Вывод\n",
    "В ходе данной лабораторной работы был реализован алгоритм интерполяционного поиска, проведено сравнение скорости его выполнения со встроенным методом.\n",
    "Был реализован алгоритм рехэширование с использованием псевдослучайных чисел.\n",
    "Была решена задача о восьми ферзях."
   ]
  }
 ],
 "metadata": {
  "colab": {
   "provenance": [
    {
     "file_id": "1PB29AfCQqtCPpQJrN1jpaKF1cw_5iEo0",
     "timestamp": 1679127006477
    }
   ]
  },
  "kernelspec": {
   "display_name": "Python 3 (ipykernel)",
   "language": "python",
   "name": "python3"
  },
  "language_info": {
   "codemirror_mode": {
    "name": "ipython",
    "version": 3
   },
   "file_extension": ".py",
   "mimetype": "text/x-python",
   "name": "python",
   "nbconvert_exporter": "python",
   "pygments_lexer": "ipython3",
   "version": "3.9.13"
  }
 },
 "nbformat": 4,
 "nbformat_minor": 1
}
